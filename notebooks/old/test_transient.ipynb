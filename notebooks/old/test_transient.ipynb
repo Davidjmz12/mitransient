{
 "cells": [
  {
   "cell_type": "code",
   "execution_count": null,
   "metadata": {},
   "outputs": [],
   "source": [
    "%load_ext autoreload\n",
    "%autoreload 2\n",
    "\n",
    "import sys\n",
    "# Add to Python path Mitsuba python binding\n",
    "sys.path.insert(0, '/home/mcrespo/mitsuba3/build/python')\n",
    "# Add to Python path Custom packages\n",
    "sys.path.append('/home/mcrespo/PyPackages')\n",
    "\n",
    "# Initialize Mitsuba and variant\n",
    "import mitsuba as mi\n",
    "mi.set_variant('cuda_rgb')\n",
    "\n",
    "# Extra imports\n",
    "import drjit as dr\n",
    "import numpy as np\n",
    "import pprint\n",
    "import matplotlib.pyplot as plt\n",
    "\n",
    "# Import Mitsuba transient package - should be after importing Mitsuba and Dr.JIT\n",
    "import MiTransient as mitr"
   ]
  },
  {
   "cell_type": "markdown",
   "metadata": {},
   "source": [
    "# Load the scene"
   ]
  },
  {
   "cell_type": "code",
   "execution_count": null,
   "metadata": {},
   "outputs": [],
   "source": [
    "kernel_scene = mi.load_file('../scenes/cornellBox/cbox_mirror.xml')\n",
    "# kernel_scene = mi.load_file('../scenes/cbox/cbox-media.xml')\n",
    "# kernel_scene = mi.load_file('../scenes/cbox/transient.xml')\n",
    "transient_integrator = kernel_scene.integrator()"
   ]
  },
  {
   "cell_type": "markdown",
   "metadata": {},
   "source": [
    "# Prepare the transient storage and other transient mechanisms"
   ]
  },
  {
   "cell_type": "code",
   "execution_count": null,
   "metadata": {},
   "outputs": [],
   "source": [
    "transient_integrator.prepare_transient(kernel_scene, 0)"
   ]
  },
  {
   "cell_type": "markdown",
   "metadata": {},
   "source": [
    "# Render the scene"
   ]
  },
  {
   "cell_type": "code",
   "execution_count": null,
   "metadata": {},
   "outputs": [],
   "source": [
    "img = transient_integrator.render(kernel_scene, spp=64)"
   ]
  },
  {
   "cell_type": "markdown",
   "metadata": {},
   "source": [
    "> Plot the resulting non-transient image"
   ]
  },
  {
   "cell_type": "code",
   "execution_count": null,
   "metadata": {},
   "outputs": [],
   "source": [
    "plt.figure(figsize=(9,9))\n",
    "plt.imshow(img ** (1.0 / 2.2))\n",
    "plt.show()"
   ]
  },
  {
   "cell_type": "markdown",
   "metadata": {},
   "source": [
    "# Develop the transient data `[pixelX, pixelY, time channels]`"
   ]
  },
  {
   "cell_type": "code",
   "execution_count": null,
   "metadata": {},
   "outputs": [],
   "source": [
    "data_transient = transient_integrator.transientBlock.develop(raw=False, gamma=False)\n",
    "print(data_transient.shape)"
   ]
  },
  {
   "cell_type": "markdown",
   "metadata": {},
   "source": [
    "# Save resulting transient data into frames"
   ]
  },
  {
   "cell_type": "code",
   "execution_count": null,
   "metadata": {},
   "outputs": [],
   "source": [
    "import sys\n",
    "import pyexr\n",
    "\n",
    "import os.path\n",
    "from os import path\n",
    "if not path.exists(\"transientFrames\"):\n",
    "    os.makedirs(\"transientFrames\")\n",
    "\n",
    "print(\"Saving transient frames\")\n",
    "transientTensor = np.array(data_transient, dtype=float)\n",
    "for id in range(transientTensor.shape[2]):\n",
    "    transientData = np.array(np.power(transientTensor[:,:,id,:], 1/2.2) * 255, dtype=float)\n",
    "    transientData = np.rot90(transientData, k=3)\n",
    "    transientData = np.flip(transientData, axis=1)\n",
    "\n",
    "    pyexr.write('transientFrames/{0:03d}.exr'.format(id), transientData)\n",
    "    sys.stdout.write(\"\\r\\tSaved %d frame\" % (id))\n",
    "    sys.stdout.flush()"
   ]
  },
  {
   "cell_type": "code",
   "execution_count": null,
   "metadata": {},
   "outputs": [],
   "source": []
  },
  {
   "cell_type": "code",
   "execution_count": null,
   "metadata": {},
   "outputs": [],
   "source": []
  },
  {
   "cell_type": "markdown",
   "metadata": {},
   "source": [
    "# Test streak images"
   ]
  },
  {
   "cell_type": "code",
   "execution_count": null,
   "metadata": {},
   "outputs": [],
   "source": [
    "PATH = '/home/mcrespo/PyPackages/MiTransient/scenes/cbox/transient_scene'\n",
    "\n",
    "import os\n",
    "\n",
    "list_files = os.listdir(PATH)\n",
    "list_files = sorted(list_files, key=lambda name: int(name[6:-4]))\n",
    "\n",
    "import pyexr\n",
    "img = pyexr.read(os.path.join(PATH, list_files[0]))\n",
    "print(img.shape)\n"
   ]
  },
  {
   "cell_type": "code",
   "execution_count": null,
   "metadata": {},
   "outputs": [],
   "source": [
    "streak_data = np.zeros([512, 512, 400, 4])\n",
    "index = 0\n",
    "for file in list_files:\n",
    "    img = pyexr.read(os.path.join(PATH, file))\n",
    "    streak_data[index, :, :, :] = img\n",
    "    index += 1"
   ]
  },
  {
   "cell_type": "code",
   "execution_count": null,
   "metadata": {},
   "outputs": [],
   "source": [
    "plt.figure()\n",
    "plt.imshow(streak_data[:,:,0,0:3])\n",
    "plt.show()"
   ]
  },
  {
   "cell_type": "code",
   "execution_count": null,
   "metadata": {},
   "outputs": [],
   "source": [
    "import sys\n",
    "import pyexr\n",
    "print(\"Saving transient frames\")\n",
    "transientTensor = np.array(streak_data, dtype=float)\n",
    "for id in range(transientTensor.shape[2]):\n",
    "    transientData = np.array(np.power(transientTensor[:,:,id,0:3], 1/2.2) * 255, dtype=float)\n",
    "    transientData = np.nan_to_num(transientData)\n",
    "    # transientData = np.rot90(transientData, k=3)\n",
    "    # transientData = np.flip(transientData, axis=1)\n",
    "\n",
    "    pyexr.write('transientFrames/{0:03d}.exr'.format(id), transientData)\n",
    "    sys.stdout.write(\"\\r\\tSaved %d frame\" % (id))\n",
    "    sys.stdout.flush()"
   ]
  },
  {
   "cell_type": "code",
   "execution_count": null,
   "metadata": {},
   "outputs": [],
   "source": []
  }
 ],
 "metadata": {
  "kernelspec": {
   "display_name": "Python 3.8.10 64-bit",
   "language": "python",
   "name": "python3"
  },
  "language_info": {
   "codemirror_mode": {
    "name": "ipython",
    "version": 3
   },
   "file_extension": ".py",
   "mimetype": "text/x-python",
   "name": "python",
   "nbconvert_exporter": "python",
   "pygments_lexer": "ipython3",
   "version": "3.8.10"
  },
  "orig_nbformat": 4,
  "vscode": {
   "interpreter": {
    "hash": "e7370f93d1d0cde622a1f8e1c04877d8463912d04d973331ad4851f04de6915a"
   }
  }
 },
 "nbformat": 4,
 "nbformat_minor": 2
}
